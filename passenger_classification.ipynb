{
 "cells": [
  {
   "cell_type": "markdown",
   "metadata": {},
   "source": "# Passenger Satisfaction Classification\nThis notebook trains several classifiers to predict airline passenger satisfaction."
  },
  {
   "cell_type": "code",
   "metadata": {},
   "execution_count": null,
   "outputs": [],
   "source": "!pip install -r requirements.txt"
  },
  {
   "cell_type": "code",
   "metadata": {},
   "execution_count": null,
   "outputs": [],
   "source": "import pandas as pd\nfrom sklearn.model_selection import train_test_split, cross_val_score, GridSearchCV\nfrom sklearn.preprocessing import OneHotEncoder, StandardScaler\nfrom sklearn.impute import SimpleImputer\nfrom sklearn.compose import ColumnTransformer\nfrom sklearn.pipeline import Pipeline\nfrom sklearn.linear_model import LogisticRegression\nfrom sklearn.ensemble import RandomForestClassifier\nfrom sklearn.metrics import accuracy_score, classification_report\nimport joblib"
  },
  {
   "cell_type": "markdown",
   "metadata": {},
   "source": "## Load the data"
  },
  {
   "cell_type": "code",
   "metadata": {},
   "execution_count": null,
   "outputs": [],
   "source": "TRAIN_PATH = 'train.csv'\nTEST_PATH = 'test.csv'\ntrain_df = pd.read_csv(TRAIN_PATH).iloc[:, 1:]\ntrain_df = train_df.drop(columns=['id'])\ntest_df = pd.read_csv(TEST_PATH).iloc[:, 1:]\ntest_df = test_df.drop(columns=['id'])"
  },
  {
   "cell_type": "markdown",
   "metadata": {},
   "source": "### Inspect missing values"
  },
  {
   "cell_type": "code",
   "metadata": {},
   "execution_count": null,
   "outputs": [],
   "source": "missing = train_df.isna().sum()\nprint(missing[missing>0])"
  },
  {
   "cell_type": "markdown",
   "metadata": {},
   "source": "## Descriptive statistics"
  },
  {
   "cell_type": "code",
   "metadata": {},
   "execution_count": null,
   "outputs": [],
   "source": "print(train_df['satisfaction'].value_counts())\ntrain_df.describe(include='all')"
  },
  {
   "cell_type": "markdown",
   "metadata": {},
   "source": "## Train/test split"
  },
  {
   "cell_type": "code",
   "metadata": {},
   "execution_count": null,
   "outputs": [],
   "source": "test_size = 0.2\nrandom_state = 42\nX = train_df.drop('satisfaction', axis=1)\ny = train_df['satisfaction']\nX_train, X_val, y_train, y_val = train_test_split(X, y, test_size=test_size, random_state=random_state, stratify=y)"
  },
  {
   "cell_type": "markdown",
   "metadata": {},
   "source": "## Build preprocessing and modeling pipelines"
  },
  {
   "cell_type": "code",
   "metadata": {},
   "execution_count": null,
   "outputs": [],
   "source": "numeric_features = ['Age', 'Flight Distance', 'Departure Delay in Minutes', 'Arrival Delay in Minutes']\ncategorical_features = [col for col in X.columns if col not in numeric_features]\n\nnumeric_transformer = Pipeline([('imputer', SimpleImputer(strategy='median')), ('scaler', StandardScaler())])\ncategorical_transformer = Pipeline([('imputer', SimpleImputer(strategy='most_frequent')), ('onehot', OneHotEncoder(handle_unknown='ignore'))])\npreprocessor = ColumnTransformer([('num', numeric_transformer, numeric_features), ('cat', categorical_transformer, categorical_features)])\n\nlog_reg = Pipeline([('preprocessor', preprocessor), ('model', LogisticRegression(max_iter=1000))])\nrf = Pipeline([('preprocessor', preprocessor), ('model', RandomForestClassifier(random_state=random_state))])"
  },
  {
   "cell_type": "markdown",
   "metadata": {},
   "source": "### Cross-validation"
  },
  {
   "cell_type": "code",
   "metadata": {},
   "execution_count": null,
   "outputs": [],
   "source": "for name, model in [('LogisticRegression', log_reg), ('RandomForest', rf)]:\n    scores = cross_val_score(model, X_train, y_train, cv=5, scoring='accuracy')\n    print(name, 'CV accuracy: %.4f +- %.4f' % (scores.mean(), scores.std()))"
  },
  {
   "cell_type": "markdown",
   "metadata": {},
   "source": "### Hyperparameter tuning"
  },
  {
   "cell_type": "code",
   "metadata": {},
   "execution_count": null,
   "outputs": [],
   "source": "param_grid = {\n    'model__C': [0.1, 1.0, 10.0]\n}\nsearch = GridSearchCV(log_reg, param_grid, cv=5, scoring='accuracy')\nsearch.fit(X_train, y_train)\nprint('Best parameters:', search.best_params_)\nprint('Best CV accuracy:', search.best_score_)"
  },
  {
   "cell_type": "markdown",
   "metadata": {},
   "source": "## Train final model and evaluate"
  },
  {
   "cell_type": "code",
   "metadata": {},
   "execution_count": null,
   "outputs": [],
   "source": "best_model = search.best_estimator_\nbest_model.fit(X_train, y_train)\ny_pred = best_model.predict(X_val)\nprint('Validation accuracy:', accuracy_score(y_val, y_pred))\nprint(classification_report(y_val, y_pred))"
  },
  {
   "cell_type": "markdown",
   "metadata": {},
   "source": "### Evaluate on test.csv"
  },
  {
   "cell_type": "code",
   "metadata": {},
   "execution_count": null,
   "outputs": [],
   "source": "X_test = test_df.drop('satisfaction', axis=1)\ny_test = test_df['satisfaction']\ny_test_pred = best_model.predict(X_test)\nprint('Test accuracy:', accuracy_score(y_test, y_test_pred))"
  },
  {
   "cell_type": "markdown",
   "metadata": {},
   "source": "## Save the trained model"
  },
  {
   "cell_type": "code",
   "metadata": {},
   "execution_count": null,
   "outputs": [],
   "source": "joblib.dump(best_model, 'best_model.joblib')"
  },
  {
   "cell_type": "markdown",
   "metadata": {},
   "source": "## Predict on new data"
  },
  {
   "cell_type": "code",
   "metadata": {},
   "execution_count": null,
   "outputs": [],
   "source": "def predict_new(csv_path, model_path='best_model.joblib'):\n    model = joblib.load(model_path)\n    df = pd.read_csv(csv_path).iloc[:, 1:]\n    df = df.drop(columns=['id'])\n    return model.predict(df)\n\n# Example usage:\n# preds = predict_new('some_new_data.csv')"
  }
 ],
 "metadata": {
  "kernelspec": {
   "display_name": "Python 3",
   "language": "python",
   "name": "python3"
  },
  "language_info": {
   "name": "python",
   "version": "3.x"
  }
 },
 "nbformat": 4,
 "nbformat_minor": 5
}
